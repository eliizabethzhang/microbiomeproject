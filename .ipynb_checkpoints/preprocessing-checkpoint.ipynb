{
 "cells": [
  {
   "cell_type": "code",
   "execution_count": 29,
   "id": "5d8f6e8c",
   "metadata": {},
   "outputs": [],
   "source": [
    "import pandas as pd\n",
    "import numpy as np\n",
    "import os \n",
    "import seaborn as sns\n",
    "import matplotlib.pyplot as plt\n",
    "%matplotlib inline "
   ]
  },
  {
   "cell_type": "code",
   "execution_count": 3,
   "id": "be06be3a",
   "metadata": {},
   "outputs": [
    {
     "data": {
      "text/plain": [
       "<function nt.listdir(path=None)>"
      ]
     },
     "execution_count": 3,
     "metadata": {},
     "output_type": "execute_result"
    }
   ],
   "source": [
    "os.listdir "
   ]
  },
  {
   "cell_type": "code",
   "execution_count": 4,
   "id": "b8505216",
   "metadata": {},
   "outputs": [
    {
     "name": "stdout",
     "output_type": "stream",
     "text": [
      "C:\\Users\\19197\\Documents\\GitHub\\AI4ALL\n",
      "C:\\Users\\19197\\Documents\\GitHub\\AI4ALL/Data\n"
     ]
    }
   ],
   "source": [
    "basedir = os.getcwd()\n",
    "datadir = basedir + '/Data'\n",
    "\n",
    "print (basedir)\n",
    "print(datadir)"
   ]
  },
  {
   "cell_type": "code",
   "execution_count": 5,
   "id": "f628b6ce",
   "metadata": {},
   "outputs": [
    {
     "data": {
      "text/plain": [
       "['microbiome_data.csv', 'otu_annotation.csv', 'sample_desc_deid.csv']"
      ]
     },
     "execution_count": 5,
     "metadata": {},
     "output_type": "execute_result"
    }
   ],
   "source": [
    "os.listdir(datadir)"
   ]
  },
  {
   "cell_type": "code",
   "execution_count": 6,
   "id": "f3c7ee51",
   "metadata": {},
   "outputs": [],
   "source": [
    "m_d = pd.read_csv(datadir + '/microbiome_data.csv', index_col = 0)\n",
    "otu_a = pd.read_csv(datadir  + '/otu_annotation.csv', index_col = 0)\n",
    "s_d = pd.read_csv(datadir + '/sample_desc_deid.csv', index_col = 0 )"
   ]
  },
  {
   "cell_type": "code",
   "execution_count": null,
   "id": "c3ea28a4",
   "metadata": {},
   "outputs": [],
   "source": []
  },
  {
   "cell_type": "code",
   "execution_count": 7,
   "id": "a77a48f0",
   "metadata": {},
   "outputs": [
    {
     "data": {
      "text/plain": [
       "Index(['1001360178', '1000106028', '1000160068', '1001406208', '1000606198',\n",
       "       '1000105048', '1000603178', '1000601248', '1000860248', '1000101018',\n",
       "       ...\n",
       "       '1005503278.rs', '1004302338.rs', '1900701418.rs', '1004704138.rs',\n",
       "       '1004602368.rs', 'NTC52', '1002101188.rs', '1000101168.rs', 'NTC51',\n",
       "       '1002204158.rs'],\n",
       "      dtype='object', length=4357)"
      ]
     },
     "execution_count": 7,
     "metadata": {},
     "output_type": "execute_result"
    }
   ],
   "source": [
    "m_d.columns"
   ]
  },
  {
   "cell_type": "code",
   "execution_count": 14,
   "id": "916a7067",
   "metadata": {},
   "outputs": [
    {
     "data": {
      "text/plain": [
       "Index(['BarcodeSequence', 'LinkerPrimerSequence', 'BodySite', 'SubjectID',\n",
       "       'GestDayColl', 'GestWeekColl', 'TrimColl', 'intra_ut_fetal_demise',\n",
       "       'History_of_preterm_delivery', 'Withdrew', 'Gdwithdrawal',\n",
       "       'GWwithdrawal', 'Delivered', 'GestDayDel', 'GestWeekdel',\n",
       "       'Labor_Initiation', 'Indication', 'PPROM', 'Chorioamnionitis',\n",
       "       'Endometritis', 'Hypertensive Disorder', 'Preeclampsia',\n",
       "       'Birthweight_kg', 'Length_at_birth', 'Number_of_babies', 'Race',\n",
       "       'Ethnicity', 'ReversePrimer', 'Saliva_volume_uL',\n",
       "       'Note_any_concerns_regarding_the_specimen', 'Run_No',\n",
       "       'Number_within_run', 'Bead_Beating_Time', 'Description'],\n",
       "      dtype='object')"
      ]
     },
     "execution_count": 14,
     "metadata": {},
     "output_type": "execute_result"
    }
   ],
   "source": [
    "s_d.columns"
   ]
  },
  {
   "cell_type": "code",
   "execution_count": null,
   "id": "6772a212",
   "metadata": {},
   "outputs": [],
   "source": []
  },
  {
   "cell_type": "code",
   "execution_count": 32,
   "id": "006b13ce",
   "metadata": {
    "scrolled": true
   },
   "outputs": [
    {
     "name": "stderr",
     "output_type": "stream",
     "text": [
      "C:\\Users\\19197\\anaconda3\\lib\\site-packages\\seaborn\\_decorators.py:36: FutureWarning: Pass the following variable as a keyword arg: x. From version 0.12, the only valid positional argument will be `data`, and passing other arguments without an explicit keyword will result in an error or misinterpretation.\n",
      "  warnings.warn(\n"
     ]
    },
    {
     "data": {
      "image/png": "[encoded data removed]",
      "text/plain": [
       "<Figure size 432x288 with 1 Axes>"
      ]
     },
     "metadata": {
      "needs_background": "light"
     },
     "output_type": "display_data"
    }
   ],
   "source": [
    "historyOfPreterm = s_d[['SubjectID','History_of_preterm_delivery']].drop_duplicates()\n",
    "sns.countplot(historyOfPreterm['History_of_preterm_delivery'])\n",
    "\n",
    "plt.title(\"Number of subjects with a history of preterm delivery\")\n",
    "plt.savefig(basedir + '/Figures/historycount.png',bbox_inches = 'tight')"
   ]
  },
  {
   "cell_type": "code",
   "execution_count": 38,
   "id": "52fd1585",
   "metadata": {},
   "outputs": [
    {
     "data": {
      "text/html": [
       "<div>\n",
       "<style scoped>\n",
       "    .dataframe tbody tr th:only-of-type {\n",
       "        vertical-align: middle;\n",
       "    }\n",
       "\n",
       "    .dataframe tbody tr th {\n",
       "        vertical-align: top;\n",
       "    }\n",
       "\n",
       "    .dataframe thead th {\n",
       "        text-align: right;\n",
       "    }\n",
       "</style>\n",
       "<table border=\"1\" class=\"dataframe\">\n",
       "  <thead>\n",
       "    <tr style=\"text-align: right;\">\n",
       "      <th></th>\n",
       "      <th>BarcodeSequence</th>\n",
       "      <th>LinkerPrimerSequence</th>\n",
       "      <th>BodySite</th>\n",
       "      <th>SubjectID</th>\n",
       "      <th>GestDayColl</th>\n",
       "      <th>GestWeekColl</th>\n",
       "      <th>TrimColl</th>\n",
       "      <th>intra_ut_fetal_demise</th>\n",
       "      <th>History_of_preterm_delivery</th>\n",
       "      <th>Withdrew</th>\n",
       "      <th>...</th>\n",
       "      <th>Race</th>\n",
       "      <th>Ethnicity</th>\n",
       "      <th>ReversePrimer</th>\n",
       "      <th>Saliva_volume_uL</th>\n",
       "      <th>Note_any_concerns_regarding_the_specimen</th>\n",
       "      <th>Run_No</th>\n",
       "      <th>Number_within_run</th>\n",
       "      <th>Bead_Beating_Time</th>\n",
       "      <th>Description</th>\n",
       "      <th>pretermBirthOutcomes</th>\n",
       "    </tr>\n",
       "    <tr>\n",
       "      <th>#SampleID</th>\n",
       "      <th></th>\n",
       "      <th></th>\n",
       "      <th></th>\n",
       "      <th></th>\n",
       "      <th></th>\n",
       "      <th></th>\n",
       "      <th></th>\n",
       "      <th></th>\n",
       "      <th></th>\n",
       "      <th></th>\n",
       "      <th></th>\n",
       "      <th></th>\n",
       "      <th></th>\n",
       "      <th></th>\n",
       "      <th></th>\n",
       "      <th></th>\n",
       "      <th></th>\n",
       "      <th></th>\n",
       "      <th></th>\n",
       "      <th></th>\n",
       "      <th></th>\n",
       "    </tr>\n",
       "  </thead>\n",
       "  <tbody>\n",
       "    <tr>\n",
       "      <th>1000201108</th>\n",
       "      <td>AACGCACGCTAG</td>\n",
       "      <td>GCACTCCTACGGGAGGCAGCA</td>\n",
       "      <td>Vaginal_Swab</td>\n",
       "      <td>10002</td>\n",
       "      <td>81.0</td>\n",
       "      <td>12.0</td>\n",
       "      <td>1.0</td>\n",
       "      <td>F</td>\n",
       "      <td>NaN</td>\n",
       "      <td>T</td>\n",
       "      <td>...</td>\n",
       "      <td>White</td>\n",
       "      <td>Hispanic</td>\n",
       "      <td>CGTATCGCCTCCCTCGCGCCATCAG</td>\n",
       "      <td>NaN</td>\n",
       "      <td>Patient did not complete a specimen log</td>\n",
       "      <td>run001</td>\n",
       "      <td>1</td>\n",
       "      <td>NaN</td>\n",
       "      <td>1</td>\n",
       "      <td>normal</td>\n",
       "    </tr>\n",
       "    <tr>\n",
       "      <th>1000501278</th>\n",
       "      <td>AACTCGTCGATG</td>\n",
       "      <td>GCACTCCTACGGGAGGCAGCA</td>\n",
       "      <td>Vaginal_Swab</td>\n",
       "      <td>10005</td>\n",
       "      <td>188.0</td>\n",
       "      <td>27.0</td>\n",
       "      <td>3.0</td>\n",
       "      <td>F</td>\n",
       "      <td>0.0</td>\n",
       "      <td>F</td>\n",
       "      <td>...</td>\n",
       "      <td>Asian-Japanese</td>\n",
       "      <td>Non-hispanic</td>\n",
       "      <td>CGTATCGCCTCCCTCGCGCCATCAG</td>\n",
       "      <td>NaN</td>\n",
       "      <td>Specimen log not provided</td>\n",
       "      <td>run001</td>\n",
       "      <td>2</td>\n",
       "      <td>NaN</td>\n",
       "      <td>2</td>\n",
       "      <td>normal</td>\n",
       "    </tr>\n",
       "    <tr>\n",
       "      <th>1000101018</th>\n",
       "      <td>AACTGTGCGTAC</td>\n",
       "      <td>GCACTCCTACGGGAGGCAGCA</td>\n",
       "      <td>Vaginal_Swab</td>\n",
       "      <td>10001</td>\n",
       "      <td>-73.0</td>\n",
       "      <td>-9.0</td>\n",
       "      <td>0.0</td>\n",
       "      <td>T</td>\n",
       "      <td>NaN</td>\n",
       "      <td>F</td>\n",
       "      <td>...</td>\n",
       "      <td>White</td>\n",
       "      <td>Non-hispanic</td>\n",
       "      <td>CGTATCGCCTCCCTCGCGCCATCAG</td>\n",
       "      <td>NaN</td>\n",
       "      <td>0</td>\n",
       "      <td>run001</td>\n",
       "      <td>3</td>\n",
       "      <td>NaN</td>\n",
       "      <td>3</td>\n",
       "      <td>normal</td>\n",
       "    </tr>\n",
       "    <tr>\n",
       "      <th>1000101028</th>\n",
       "      <td>AAGAGATGTCGA</td>\n",
       "      <td>GCACTCCTACGGGAGGCAGCA</td>\n",
       "      <td>Vaginal_Swab</td>\n",
       "      <td>10001</td>\n",
       "      <td>-65.0</td>\n",
       "      <td>-8.0</td>\n",
       "      <td>0.0</td>\n",
       "      <td>T</td>\n",
       "      <td>NaN</td>\n",
       "      <td>F</td>\n",
       "      <td>...</td>\n",
       "      <td>White</td>\n",
       "      <td>Non-hispanic</td>\n",
       "      <td>CGTATCGCCTCCCTCGCGCCATCAG</td>\n",
       "      <td>NaN</td>\n",
       "      <td>0</td>\n",
       "      <td>run001</td>\n",
       "      <td>4</td>\n",
       "      <td>NaN</td>\n",
       "      <td>4</td>\n",
       "      <td>normal</td>\n",
       "    </tr>\n",
       "    <tr>\n",
       "      <th>1000201118</th>\n",
       "      <td>AAGCTGCAGTCG</td>\n",
       "      <td>GCACTCCTACGGGAGGCAGCA</td>\n",
       "      <td>Vaginal_Swab</td>\n",
       "      <td>10002</td>\n",
       "      <td>86.0</td>\n",
       "      <td>13.0</td>\n",
       "      <td>1.0</td>\n",
       "      <td>F</td>\n",
       "      <td>NaN</td>\n",
       "      <td>T</td>\n",
       "      <td>...</td>\n",
       "      <td>White</td>\n",
       "      <td>Hispanic</td>\n",
       "      <td>CGTATCGCCTCCCTCGCGCCATCAG</td>\n",
       "      <td>NaN</td>\n",
       "      <td>Patient did not complete a specimen log</td>\n",
       "      <td>run001</td>\n",
       "      <td>5</td>\n",
       "      <td>NaN</td>\n",
       "      <td>5</td>\n",
       "      <td>normal</td>\n",
       "    </tr>\n",
       "  </tbody>\n",
       "</table>\n",
       "<p>5 rows × 35 columns</p>\n",
       "</div>"
      ],
      "text/plain": [
       "           BarcodeSequence   LinkerPrimerSequence      BodySite SubjectID  \\\n",
       "#SampleID                                                                   \n",
       "1000201108    AACGCACGCTAG  GCACTCCTACGGGAGGCAGCA  Vaginal_Swab     10002   \n",
       "1000501278    AACTCGTCGATG  GCACTCCTACGGGAGGCAGCA  Vaginal_Swab     10005   \n",
       "1000101018    AACTGTGCGTAC  GCACTCCTACGGGAGGCAGCA  Vaginal_Swab     10001   \n",
       "1000101028    AAGAGATGTCGA  GCACTCCTACGGGAGGCAGCA  Vaginal_Swab     10001   \n",
       "1000201118    AAGCTGCAGTCG  GCACTCCTACGGGAGGCAGCA  Vaginal_Swab     10002   \n",
       "\n",
       "            GestDayColl  GestWeekColl  TrimColl intra_ut_fetal_demise  \\\n",
       "#SampleID                                                               \n",
       "1000201108         81.0          12.0       1.0                     F   \n",
       "1000501278        188.0          27.0       3.0                     F   \n",
       "1000101018        -73.0          -9.0       0.0                     T   \n",
       "1000101028        -65.0          -8.0       0.0                     T   \n",
       "1000201118         86.0          13.0       1.0                     F   \n",
       "\n",
       "            History_of_preterm_delivery Withdrew  ...            Race  \\\n",
       "#SampleID                                         ...                   \n",
       "1000201108                          NaN        T  ...           White   \n",
       "1000501278                          0.0        F  ...  Asian-Japanese   \n",
       "1000101018                          NaN        F  ...           White   \n",
       "1000101028                          NaN        F  ...           White   \n",
       "1000201118                          NaN        T  ...           White   \n",
       "\n",
       "               Ethnicity              ReversePrimer  Saliva_volume_uL  \\\n",
       "#SampleID                                                               \n",
       "1000201108      Hispanic  CGTATCGCCTCCCTCGCGCCATCAG               NaN   \n",
       "1000501278  Non-hispanic  CGTATCGCCTCCCTCGCGCCATCAG               NaN   \n",
       "1000101018  Non-hispanic  CGTATCGCCTCCCTCGCGCCATCAG               NaN   \n",
       "1000101028  Non-hispanic  CGTATCGCCTCCCTCGCGCCATCAG               NaN   \n",
       "1000201118      Hispanic  CGTATCGCCTCCCTCGCGCCATCAG               NaN   \n",
       "\n",
       "            Note_any_concerns_regarding_the_specimen  Run_No  \\\n",
       "#SampleID                                                      \n",
       "1000201108   Patient did not complete a specimen log  run001   \n",
       "1000501278                 Specimen log not provided  run001   \n",
       "1000101018                                         0  run001   \n",
       "1000101028                                         0  run001   \n",
       "1000201118   Patient did not complete a specimen log  run001   \n",
       "\n",
       "           Number_within_run Bead_Beating_Time  Description  \\\n",
       "#SampleID                                                     \n",
       "1000201108                 1               NaN            1   \n",
       "1000501278                 2               NaN            2   \n",
       "1000101018                 3               NaN            3   \n",
       "1000101028                 4               NaN            4   \n",
       "1000201118                 5               NaN            5   \n",
       "\n",
       "            pretermBirthOutcomes  \n",
       "#SampleID                         \n",
       "1000201108                normal  \n",
       "1000501278                normal  \n",
       "1000101018                normal  \n",
       "1000101028                normal  \n",
       "1000201118                normal  \n",
       "\n",
       "[5 rows x 35 columns]"
      ]
     },
     "execution_count": 38,
     "metadata": {},
     "output_type": "execute_result"
    }
   ],
   "source": [
    "def gestWeekClassification(row):\n",
    "    if row['GestWeekdel'] < 37:\n",
    "        return \"preterm\"\n",
    "    else: \n",
    "        return \"normal\"\n",
    "\n",
    "# Define a new column in the dataframe that will hold these vales, then call the function you wrote\n",
    "s_d['pretermBirthOutcomes'] = s_d.apply(gestWeekClassification,axis=1)\n",
    "s_d.head()"
   ]
  },
  {
   "cell_type": "code",
   "execution_count": 40,
   "id": "33299d8f",
   "metadata": {},
   "outputs": [
    {
     "name": "stderr",
     "output_type": "stream",
     "text": [
      "C:\\Users\\19197\\anaconda3\\lib\\site-packages\\seaborn\\_decorators.py:36: FutureWarning: Pass the following variable as a keyword arg: x. From version 0.12, the only valid positional argument will be `data`, and passing other arguments without an explicit keyword will result in an error or misinterpretation.\n",
      "  warnings.warn(\n"
     ]
    },
    {
     "data": {
      "image/png": "[encoded data removed]",
      "text/plain": [
       "<Figure size 432x288 with 1 Axes>"
      ]
     },
     "metadata": {
      "needs_background": "light"
     },
     "output_type": "display_data"
    }
   ],
   "source": [
    "earlyDelivery = s_d[['SubjectID','pretermBirthOutcomes']].drop_duplicates()\n",
    "sns.countplot(earlyDelivery['pretermBirthOutcomes'])\n",
    "plt.savefig(basedir + '/Figures/earlyDeliveryCount.png',bbox_inches = 'tight')"
   ]
  },
  {
   "cell_type": "code",
   "execution_count": null,
   "id": "346acac2",
   "metadata": {},
   "outputs": [],
   "source": []
  }
 ],
 "metadata": {
  "kernelspec": {
   "display_name": "Python 3",
   "language": "python",
   "name": "python3"
  },
  "language_info": {
   "codemirror_mode": {
    "name": "ipython",
    "version": 3
   },
   "file_extension": ".py",
   "mimetype": "text/x-python",
   "name": "python",
   "nbconvert_exporter": "python",
   "pygments_lexer": "ipython3",
   "version": "3.8.8"
  }
 },
 "nbformat": 4,
 "nbformat_minor": 5
}
