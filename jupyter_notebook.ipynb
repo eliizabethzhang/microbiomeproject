{
 "cells": [
  {
   "cell_type": "code",
   "execution_count": 10,
   "id": "5d8f6e8c",
   "metadata": {},
   "outputs": [],
   "source": [
    "import pandas as pd\n",
    "import numpy as np\n",
    "import os \n",
    "import seaborn as sns"
   ]
  },
  {
   "cell_type": "code",
   "execution_count": 5,
   "id": "be06be3a",
   "metadata": {},
   "outputs": [
    {
     "data": {
      "text/plain": [
       "<function nt.listdir(path=None)>"
      ]
     },
     "execution_count": 5,
     "metadata": {},
     "output_type": "execute_result"
    }
   ],
   "source": [
    "os.listdir "
   ]
  },
  {
   "cell_type": "code",
   "execution_count": 6,
   "id": "b8505216",
   "metadata": {},
   "outputs": [
    {
     "name": "stdout",
     "output_type": "stream",
     "text": [
      "C:\\Users\\19197\\Documents\\GitHub\\AI4ALL\n",
      "C:\\Users\\19197\\Documents\\GitHub\\AI4ALL/Data\n"
     ]
    }
   ],
   "source": [
    "basedir = os.getcwd()\n",
    "datadir = basedir + '/Data'\n",
    "\n",
    "print (basedir)\n",
    "print(datadir)"
   ]
  },
  {
   "cell_type": "code",
   "execution_count": 7,
   "id": "f628b6ce",
   "metadata": {},
   "outputs": [
    {
     "data": {
      "text/plain": [
       "['data.csv', 'OTUref.csv', 'patients_assay.csv']"
      ]
     },
     "execution_count": 7,
     "metadata": {},
     "output_type": "execute_result"
    }
   ],
   "source": [
    "os.listdir(datadir)"
   ]
  },
  {
   "cell_type": "code",
   "execution_count": 9,
   "id": "f3c7ee51",
   "metadata": {},
   "outputs": [],
   "source": [
    "data = pd.read_csv(datadir + '/data.csv', index_col = 0)\n",
    "OTUred = pd.read_csv(datadir  + '/OTUref.csv', index_col = 0)\n",
    "patients_assay = pd.read_csv(datadir + '/patients_assay.csv', index_col = 0 )"
   ]
  },
  {
   "cell_type": "code",
   "execution_count": null,
   "id": "c3ea28a4",
   "metadata": {},
   "outputs": [],
   "source": []
  }
 ],
 "metadata": {
  "kernelspec": {
   "display_name": "Python 3",
   "language": "python",
   "name": "python3"
  },
  "language_info": {
   "codemirror_mode": {
    "name": "ipython",
    "version": 3
   },
   "file_extension": ".py",
   "mimetype": "text/x-python",
   "name": "python",
   "nbconvert_exporter": "python",
   "pygments_lexer": "ipython3",
   "version": "3.8.8"
  }
 },
 "nbformat": 4,
 "nbformat_minor": 5
}
