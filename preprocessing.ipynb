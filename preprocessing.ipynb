{
 "cells": [
  {
   "cell_type": "code",
   "execution_count": 29,
   "id": "5d8f6e8c",
   "metadata": {},
   "outputs": [],
   "source": [
    "import pandas as pd\n",
    "import numpy as np\n",
    "import os \n",
    "import seaborn as sns\n",
    "import matplotlib.pyplot as plt\n",
    "%matplotlib inline "
   ]
  },
  {
   "cell_type": "code",
   "execution_count": 3,
   "id": "be06be3a",
   "metadata": {},
   "outputs": [
    {
     "data": {
      "text/plain": [
       "<function nt.listdir(path=None)>"
      ]
     },
     "execution_count": 3,
     "metadata": {},
     "output_type": "execute_result"
    }
   ],
   "source": [
    "os.listdir "
   ]
  },
  {
   "cell_type": "code",
   "execution_count": 4,
   "id": "b8505216",
   "metadata": {},
   "outputs": [
    {
     "name": "stdout",
     "output_type": "stream",
     "text": [
      "C:\\Users\\19197\\Documents\\GitHub\\AI4ALL\n",
      "C:\\Users\\19197\\Documents\\GitHub\\AI4ALL/Data\n"
     ]
    }
   ],
   "source": [
    "basedir = os.getcwd()\n",
    "datadir = basedir + '/Data'\n",
    "\n",
    "print (basedir)\n",
    "print(datadir)"
   ]
  },
  {
   "cell_type": "code",
   "execution_count": 5,
   "id": "f628b6ce",
   "metadata": {},
   "outputs": [
    {
     "data": {
      "text/plain": [
       "['microbiome_data.csv', 'otu_annotation.csv', 'sample_desc_deid.csv']"
      ]
     },
     "execution_count": 5,
     "metadata": {},
     "output_type": "execute_result"
    }
   ],
   "source": [
    "os.listdir(datadir)"
   ]
  },
  {
   "cell_type": "code",
   "execution_count": 6,
   "id": "f3c7ee51",
   "metadata": {},
   "outputs": [],
   "source": [
    "m_d = pd.read_csv(datadir + '/microbiome_data.csv', index_col = 0)\n",
    "otu_a = pd.read_csv(datadir  + '/otu_annotation.csv', index_col = 0)\n",
    "s_d = pd.read_csv(datadir + '/sample_desc_deid.csv', index_col = 0 )"
   ]
  },
  {
   "cell_type": "code",
   "execution_count": null,
   "id": "c3ea28a4",
   "metadata": {},
   "outputs": [],
   "source": []
  },
  {
   "cell_type": "code",
   "execution_count": 7,
   "id": "9ffaddda",
   "metadata": {},
   "outputs": [
    {
     "data": {
      "text/plain": [
       "Index(['1001360178', '1000106028', '1000160068', '1001406208', '1000606198',\n",
       "       '1000105048', '1000603178', '1000601248', '1000860248', '1000101018',\n",
       "       ...\n",
       "       '1005503278.rs', '1004302338.rs', '1900701418.rs', '1004704138.rs',\n",
       "       '1004602368.rs', 'NTC52', '1002101188.rs', '1000101168.rs', 'NTC51',\n",
       "       '1002204158.rs'],\n",
       "      dtype='object', length=4357)"
      ]
     },
     "execution_count": 7,
     "metadata": {},
     "output_type": "execute_result"
    }
   ],
   "source": [
    "m_d.columns"
   ]
  },
  {
   "cell_type": "code",
   "execution_count": 14,
   "id": "a849ef51",
   "metadata": {},
   "outputs": [
    {
     "data": {
      "text/plain": [
       "Index(['BarcodeSequence', 'LinkerPrimerSequence', 'BodySite', 'SubjectID',\n",
       "       'GestDayColl', 'GestWeekColl', 'TrimColl', 'intra_ut_fetal_demise',\n",
       "       'History_of_preterm_delivery', 'Withdrew', 'Gdwithdrawal',\n",
       "       'GWwithdrawal', 'Delivered', 'GestDayDel', 'GestWeekdel',\n",
       "       'Labor_Initiation', 'Indication', 'PPROM', 'Chorioamnionitis',\n",
       "       'Endometritis', 'Hypertensive Disorder', 'Preeclampsia',\n",
       "       'Birthweight_kg', 'Length_at_birth', 'Number_of_babies', 'Race',\n",
       "       'Ethnicity', 'ReversePrimer', 'Saliva_volume_uL',\n",
       "       'Note_any_concerns_regarding_the_specimen', 'Run_No',\n",
       "       'Number_within_run', 'Bead_Beating_Time', 'Description'],\n",
       "      dtype='object')"
      ]
     },
     "execution_count": 14,
     "metadata": {},
     "output_type": "execute_result"
    }
   ],
   "source": [
    "s_d.columns"
   ]
  },
  {
   "cell_type": "code",
   "execution_count": null,
   "id": "f54b0e4a",
   "metadata": {},
   "outputs": [],
   "source": []
  },
  {
   "cell_type": "code",
   "execution_count": 41,
   "id": "03ab5f0d",
   "metadata": {
    "scrolled": true
   },
   "outputs": [
    {
     "name": "stderr",
     "output_type": "stream",
     "text": [
      "C:\\Users\\19197\\anaconda3\\lib\\site-packages\\seaborn\\_decorators.py:36: FutureWarning: Pass the following variable as a keyword arg: x. From version 0.12, the only valid positional argument will be `data`, and passing other arguments without an explicit keyword will result in an error or misinterpretation.\n",
      "  warnings.warn(\n"
     ]
    },
    {
     "data": {
      "image/png": "[encoded data removed]",
      "text/plain": [
       "<Figure size 432x288 with 1 Axes>"
      ]
     },
     "metadata": {
      "needs_background": "light"
     },
     "output_type": "display_data"
    }
   ],
   "source": [
    "historyOfPreterm = s_d[['SubjectID','History_of_preterm_delivery']].drop_duplicates()\n",
    "sns.countplot(historyOfPreterm['History_of_preterm_delivery'])\n",
    "\n",
    "plt.title(\"Number of subjects with a history of preterm delivery\")\n",
    "plt.savefig(basedir + '/Figures/historyCount.png',bbox_inches = 'tight')"
   ]
  },
  {
   "cell_type": "code",
   "execution_count": 51,
   "id": "383ca44c",
   "metadata": {},
   "outputs": [],
   "source": [
    "def gestWeekClassification(row):\n",
    "    if row['GestWeekdel'] < 37:\n",
    "        return \"preterm\"\n",
    "    elif row[\"intra_ut_fetal_demise\"] == 'T':\n",
    "        return \"fetal death\"\n",
    "    else: \n",
    "        return \"normal\"\n",
    "\n",
    "s_d['pretermBirthOutcomes'] = s_d.apply(gestWeekClassification,axis=1)"
   ]
  },
  {
   "cell_type": "code",
   "execution_count": 52,
   "id": "904698b2",
   "metadata": {},
   "outputs": [
    {
     "name": "stderr",
     "output_type": "stream",
     "text": [
      "C:\\Users\\19197\\anaconda3\\lib\\site-packages\\seaborn\\_decorators.py:36: FutureWarning: Pass the following variable as a keyword arg: x. From version 0.12, the only valid positional argument will be `data`, and passing other arguments without an explicit keyword will result in an error or misinterpretation.\n",
      "  warnings.warn(\n"
     ]
    },
    {
     "data": {
      "image/png": "[encoded data removed]",
      "text/plain": [
       "<Figure size 432x288 with 1 Axes>"
      ]
     },
     "metadata": {
      "needs_background": "light"
     },
     "output_type": "display_data"
    }
   ],
   "source": [
    "earlyDelivery = s_d[['SubjectID','pretermBirthOutcomes']].drop_duplicates()\n",
    "sns.countplot(earlyDelivery['pretermBirthOutcomes'])\n",
    "\n",
    "plt.title(\"Patient outcomes\")\n",
    "plt.savefig(basedir + '/Figures/earlyDeliveryCount.png',bbox_inches = 'tight')"
   ]
  },
  {
   "cell_type": "code",
   "execution_count": null,
   "id": "f846aa9b",
   "metadata": {},
   "outputs": [],
   "source": [
    "def gestWeekClassification(row):\n",
    "    if row['GestWeekdel'] < 37:\n",
    "        return \"preterm\"\n",
    "    else: \n",
    "        return \"normal\"\n",
    "\n",
    "s_d['pretermBirthOutcomes'] = s_d.apply(gestWeekClassification,axis=1)"
   ]
  }
 ],
 "metadata": {
  "kernelspec": {
   "display_name": "Python 3",
   "language": "python",
   "name": "python3"
  },
  "language_info": {
   "codemirror_mode": {
    "name": "ipython",
    "version": 3
   },
   "file_extension": ".py",
   "mimetype": "text/x-python",
   "name": "python",
   "nbconvert_exporter": "python",
   "pygments_lexer": "ipython3",
   "version": "3.8.8"
  }
 },
 "nbformat": 4,
 "nbformat_minor": 5
}
